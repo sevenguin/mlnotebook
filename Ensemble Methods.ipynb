{
 "cells": [
  {
   "cell_type": "markdown",
   "metadata": {},
   "source": [
    "<h2>Ensemble Methods</h2>\n",
    "\n",
    "集成学习，可以将很多基础的学习算法进行组合，来获得更强健/泛化能力更好的算法。\n",
    "集成学习主要分为两种：\n",
    "1. **Bagging Methods:** 同时运行多个基础算法，然后对结果求均值。组合得到的结果一般比单个算法更好，因为降低了方差（var),所以这里的基算法可能训练的误差会小于组合算法，但是测试集上表现不好，也就是过拟合，通过组合，可以解决过拟合的问题.\n",
    "   Examples: Bagging methods, Forests of randomized trees, …\n",
    "2. **Boosting Methods:** 相比Bagging Methods，基算法串行构建，用来解决高偏差(bias)的问题. 可以组合多个弱的算法产生比较强的算法，和前面的Bagging不同的是，这里基算法可能是高偏差（前者是高方差）。\n",
    "   Examples: AdaBoost, Gradient Tree Boosting, …\n"
   ]
  },
  {
   "cell_type": "code",
   "execution_count": null,
   "metadata": {
    "collapsed": true
   },
   "outputs": [],
   "source": []
  }
 ],
 "metadata": {
  "kernelspec": {
   "display_name": "Python 2",
   "language": "python",
   "name": "python2"
  },
  "language_info": {
   "codemirror_mode": {
    "name": "ipython",
    "version": 2
   },
   "file_extension": ".py",
   "mimetype": "text/x-python",
   "name": "python",
   "nbconvert_exporter": "python",
   "pygments_lexer": "ipython2",
   "version": "2.7.13"
  }
 },
 "nbformat": 4,
 "nbformat_minor": 2
}
